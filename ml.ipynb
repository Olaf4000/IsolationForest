{
 "cells": [
  {
   "cell_type": "code",
   "id": "initial_id",
   "metadata": {
    "collapsed": true,
    "ExecuteTime": {
     "end_time": "2025-01-13T14:32:50.147162Z",
     "start_time": "2025-01-13T14:32:50.092775Z"
    }
   },
   "source": [
    "import pandas as pd\n",
    "\n",
    "df = pd.read_csv('data/l3T.csv')\n",
    "df.head()"
   ],
   "outputs": [
    {
     "data": {
      "text/plain": [
       "          host         clientIp  timestamp_min  timestamp_max  time_active  \\\n",
       "0  www.f81C.de   104.215.18.178          48295         286809       238514   \n",
       "1  www.f81C.de   110.193.215.48         189303         228127        38824   \n",
       "2  www.f81C.de   110.251.240.42          51088          51088            0   \n",
       "3  www.f81C.de  115.147.226.201          34296         104285        69989   \n",
       "4  www.f81C.de    115.239.140.6         225932         225932            0   \n",
       "\n",
       "   count  \n",
       "0      4  \n",
       "1      2  \n",
       "2      1  \n",
       "3      6  \n",
       "4      1  "
      ],
      "text/html": [
       "<div>\n",
       "<style scoped>\n",
       "    .dataframe tbody tr th:only-of-type {\n",
       "        vertical-align: middle;\n",
       "    }\n",
       "\n",
       "    .dataframe tbody tr th {\n",
       "        vertical-align: top;\n",
       "    }\n",
       "\n",
       "    .dataframe thead th {\n",
       "        text-align: right;\n",
       "    }\n",
       "</style>\n",
       "<table border=\"1\" class=\"dataframe\">\n",
       "  <thead>\n",
       "    <tr style=\"text-align: right;\">\n",
       "      <th></th>\n",
       "      <th>host</th>\n",
       "      <th>clientIp</th>\n",
       "      <th>timestamp_min</th>\n",
       "      <th>timestamp_max</th>\n",
       "      <th>time_active</th>\n",
       "      <th>count</th>\n",
       "    </tr>\n",
       "  </thead>\n",
       "  <tbody>\n",
       "    <tr>\n",
       "      <th>0</th>\n",
       "      <td>www.f81C.de</td>\n",
       "      <td>104.215.18.178</td>\n",
       "      <td>48295</td>\n",
       "      <td>286809</td>\n",
       "      <td>238514</td>\n",
       "      <td>4</td>\n",
       "    </tr>\n",
       "    <tr>\n",
       "      <th>1</th>\n",
       "      <td>www.f81C.de</td>\n",
       "      <td>110.193.215.48</td>\n",
       "      <td>189303</td>\n",
       "      <td>228127</td>\n",
       "      <td>38824</td>\n",
       "      <td>2</td>\n",
       "    </tr>\n",
       "    <tr>\n",
       "      <th>2</th>\n",
       "      <td>www.f81C.de</td>\n",
       "      <td>110.251.240.42</td>\n",
       "      <td>51088</td>\n",
       "      <td>51088</td>\n",
       "      <td>0</td>\n",
       "      <td>1</td>\n",
       "    </tr>\n",
       "    <tr>\n",
       "      <th>3</th>\n",
       "      <td>www.f81C.de</td>\n",
       "      <td>115.147.226.201</td>\n",
       "      <td>34296</td>\n",
       "      <td>104285</td>\n",
       "      <td>69989</td>\n",
       "      <td>6</td>\n",
       "    </tr>\n",
       "    <tr>\n",
       "      <th>4</th>\n",
       "      <td>www.f81C.de</td>\n",
       "      <td>115.239.140.6</td>\n",
       "      <td>225932</td>\n",
       "      <td>225932</td>\n",
       "      <td>0</td>\n",
       "      <td>1</td>\n",
       "    </tr>\n",
       "  </tbody>\n",
       "</table>\n",
       "</div>"
      ]
     },
     "execution_count": 3,
     "metadata": {},
     "output_type": "execute_result"
    }
   ],
   "execution_count": 3
  }
 ],
 "metadata": {
  "kernelspec": {
   "display_name": "Python 3",
   "language": "python",
   "name": "python3"
  },
  "language_info": {
   "codemirror_mode": {
    "name": "ipython",
    "version": 2
   },
   "file_extension": ".py",
   "mimetype": "text/x-python",
   "name": "python",
   "nbconvert_exporter": "python",
   "pygments_lexer": "ipython2",
   "version": "2.7.6"
  }
 },
 "nbformat": 4,
 "nbformat_minor": 5
}
