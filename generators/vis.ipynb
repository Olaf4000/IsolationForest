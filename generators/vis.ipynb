{
 "cells": [
  {
   "cell_type": "code",
   "id": "initial_id",
   "metadata": {
    "collapsed": true,
    "ExecuteTime": {
     "end_time": "2025-01-30T12:41:59.042323Z",
     "start_time": "2025-01-30T12:41:59.039704Z"
    }
   },
   "source": [
    "import pandas as pd\n",
    "import matplotlib.pyplot as plt"
   ],
   "outputs": [],
   "execution_count": 7
  },
  {
   "metadata": {
    "ExecuteTime": {
     "end_time": "2025-01-30T12:42:13.479966Z",
     "start_time": "2025-01-30T12:42:12.868691Z"
    }
   },
   "cell_type": "code",
   "source": [
    "logs = pd.read_csv('../data/logs.csv')\n",
    "logs.head()"
   ],
   "id": "c35956604b8c479c",
   "outputs": [
    {
     "data": {
      "text/plain": [
       "   timestamp action         host     clientIp country           uri\n",
       "0     194845  ALLOW  www.RYkk.de  122.68.77.4      DE  /placeholder\n",
       "1     361140  ALLOW  www.RYkk.de  122.68.77.4      DE  /placeholder\n",
       "2     242885  ALLOW  www.RYkk.de  122.68.77.4      DE  /placeholder\n",
       "3     188847  ALLOW  www.RYkk.de  122.68.77.4      DE  /placeholder\n",
       "4     248059  ALLOW  www.RYkk.de  122.68.77.4      DE  /placeholder"
      ],
      "text/html": [
       "<div>\n",
       "<style scoped>\n",
       "    .dataframe tbody tr th:only-of-type {\n",
       "        vertical-align: middle;\n",
       "    }\n",
       "\n",
       "    .dataframe tbody tr th {\n",
       "        vertical-align: top;\n",
       "    }\n",
       "\n",
       "    .dataframe thead th {\n",
       "        text-align: right;\n",
       "    }\n",
       "</style>\n",
       "<table border=\"1\" class=\"dataframe\">\n",
       "  <thead>\n",
       "    <tr style=\"text-align: right;\">\n",
       "      <th></th>\n",
       "      <th>timestamp</th>\n",
       "      <th>action</th>\n",
       "      <th>host</th>\n",
       "      <th>clientIp</th>\n",
       "      <th>country</th>\n",
       "      <th>uri</th>\n",
       "    </tr>\n",
       "  </thead>\n",
       "  <tbody>\n",
       "    <tr>\n",
       "      <th>0</th>\n",
       "      <td>194845</td>\n",
       "      <td>ALLOW</td>\n",
       "      <td>www.RYkk.de</td>\n",
       "      <td>122.68.77.4</td>\n",
       "      <td>DE</td>\n",
       "      <td>/placeholder</td>\n",
       "    </tr>\n",
       "    <tr>\n",
       "      <th>1</th>\n",
       "      <td>361140</td>\n",
       "      <td>ALLOW</td>\n",
       "      <td>www.RYkk.de</td>\n",
       "      <td>122.68.77.4</td>\n",
       "      <td>DE</td>\n",
       "      <td>/placeholder</td>\n",
       "    </tr>\n",
       "    <tr>\n",
       "      <th>2</th>\n",
       "      <td>242885</td>\n",
       "      <td>ALLOW</td>\n",
       "      <td>www.RYkk.de</td>\n",
       "      <td>122.68.77.4</td>\n",
       "      <td>DE</td>\n",
       "      <td>/placeholder</td>\n",
       "    </tr>\n",
       "    <tr>\n",
       "      <th>3</th>\n",
       "      <td>188847</td>\n",
       "      <td>ALLOW</td>\n",
       "      <td>www.RYkk.de</td>\n",
       "      <td>122.68.77.4</td>\n",
       "      <td>DE</td>\n",
       "      <td>/placeholder</td>\n",
       "    </tr>\n",
       "    <tr>\n",
       "      <th>4</th>\n",
       "      <td>248059</td>\n",
       "      <td>ALLOW</td>\n",
       "      <td>www.RYkk.de</td>\n",
       "      <td>122.68.77.4</td>\n",
       "      <td>DE</td>\n",
       "      <td>/placeholder</td>\n",
       "    </tr>\n",
       "  </tbody>\n",
       "</table>\n",
       "</div>"
      ]
     },
     "execution_count": 10,
     "metadata": {},
     "output_type": "execute_result"
    }
   ],
   "execution_count": 10
  },
  {
   "metadata": {
    "ExecuteTime": {
     "end_time": "2025-01-30T12:42:15.520646Z",
     "start_time": "2025-01-30T12:42:15.426651Z"
    }
   },
   "cell_type": "code",
   "source": [
    "client_count = logs.groupby('clientIp').size().reset_index(name='count')\n",
    "client_count"
   ],
   "id": "c9c775f4241e0af3",
   "outputs": [
    {
     "data": {
      "text/plain": [
       "            clientIp  count\n",
       "0       10.120.85.11    609\n",
       "1      10.132.83.139    941\n",
       "2     10.183.216.237    655\n",
       "3       10.192.23.96    619\n",
       "4       10.193.89.71    858\n",
       "...              ...    ...\n",
       "2515  99.212.231.183    716\n",
       "2516     99.220.3.75    713\n",
       "2517  99.240.214.135    912\n",
       "2518     99.244.5.77    958\n",
       "2519    99.43.86.162    788\n",
       "\n",
       "[2520 rows x 2 columns]"
      ],
      "text/html": [
       "<div>\n",
       "<style scoped>\n",
       "    .dataframe tbody tr th:only-of-type {\n",
       "        vertical-align: middle;\n",
       "    }\n",
       "\n",
       "    .dataframe tbody tr th {\n",
       "        vertical-align: top;\n",
       "    }\n",
       "\n",
       "    .dataframe thead th {\n",
       "        text-align: right;\n",
       "    }\n",
       "</style>\n",
       "<table border=\"1\" class=\"dataframe\">\n",
       "  <thead>\n",
       "    <tr style=\"text-align: right;\">\n",
       "      <th></th>\n",
       "      <th>clientIp</th>\n",
       "      <th>count</th>\n",
       "    </tr>\n",
       "  </thead>\n",
       "  <tbody>\n",
       "    <tr>\n",
       "      <th>0</th>\n",
       "      <td>10.120.85.11</td>\n",
       "      <td>609</td>\n",
       "    </tr>\n",
       "    <tr>\n",
       "      <th>1</th>\n",
       "      <td>10.132.83.139</td>\n",
       "      <td>941</td>\n",
       "    </tr>\n",
       "    <tr>\n",
       "      <th>2</th>\n",
       "      <td>10.183.216.237</td>\n",
       "      <td>655</td>\n",
       "    </tr>\n",
       "    <tr>\n",
       "      <th>3</th>\n",
       "      <td>10.192.23.96</td>\n",
       "      <td>619</td>\n",
       "    </tr>\n",
       "    <tr>\n",
       "      <th>4</th>\n",
       "      <td>10.193.89.71</td>\n",
       "      <td>858</td>\n",
       "    </tr>\n",
       "    <tr>\n",
       "      <th>...</th>\n",
       "      <td>...</td>\n",
       "      <td>...</td>\n",
       "    </tr>\n",
       "    <tr>\n",
       "      <th>2515</th>\n",
       "      <td>99.212.231.183</td>\n",
       "      <td>716</td>\n",
       "    </tr>\n",
       "    <tr>\n",
       "      <th>2516</th>\n",
       "      <td>99.220.3.75</td>\n",
       "      <td>713</td>\n",
       "    </tr>\n",
       "    <tr>\n",
       "      <th>2517</th>\n",
       "      <td>99.240.214.135</td>\n",
       "      <td>912</td>\n",
       "    </tr>\n",
       "    <tr>\n",
       "      <th>2518</th>\n",
       "      <td>99.244.5.77</td>\n",
       "      <td>958</td>\n",
       "    </tr>\n",
       "    <tr>\n",
       "      <th>2519</th>\n",
       "      <td>99.43.86.162</td>\n",
       "      <td>788</td>\n",
       "    </tr>\n",
       "  </tbody>\n",
       "</table>\n",
       "<p>2520 rows × 2 columns</p>\n",
       "</div>"
      ]
     },
     "execution_count": 11,
     "metadata": {},
     "output_type": "execute_result"
    }
   ],
   "execution_count": 11
  },
  {
   "metadata": {
    "ExecuteTime": {
     "end_time": "2025-01-30T12:42:20.251555Z",
     "start_time": "2025-01-30T12:42:17.294656Z"
    }
   },
   "cell_type": "code",
   "source": [
    "plt.scatter(client_count['clientIp'], client_count['count'])\n",
    "plt.show()"
   ],
   "id": "ba6c215dfe82625e",
   "outputs": [
    {
     "data": {
      "text/plain": [
       "<Figure size 640x480 with 1 Axes>"
      ],
      "image/png": "[encoded data removed]"
     },
     "metadata": {},
     "output_type": "display_data"
    }
   ],
   "execution_count": 12
  },
  {
   "metadata": {
    "ExecuteTime": {
     "end_time": "2025-01-30T12:41:05.732300Z",
     "start_time": "2025-01-30T12:41:05.721026Z"
    }
   },
   "cell_type": "code",
   "source": [
    "print(logs['timestamp'].mean())\n",
    "print(logs['timestamp'].count())"
   ],
   "id": "c66a117ac3d45a7d",
   "outputs": [
    {
     "name": "stdout",
     "output_type": "stream",
     "text": [
      "250019.24134663123\n",
      "2143096\n"
     ]
    }
   ],
   "execution_count": 5
  },
  {
   "metadata": {
    "ExecuteTime": {
     "end_time": "2025-01-30T12:41:08.398017Z",
     "start_time": "2025-01-30T12:41:08.283744Z"
    }
   },
   "cell_type": "code",
   "source": [
    "timestamp_counts = logs.groupby('timestamp').size().reset_index(name='count')\n",
    "timestamp_counts"
   ],
   "id": "76cfb8ac174da3e5",
   "outputs": [
    {
     "data": {
      "text/plain": [
       "        timestamp  count\n",
       "0           34236      1\n",
       "1           34260      1\n",
       "2           34496      1\n",
       "3           34732      1\n",
       "4           34937      1\n",
       "...           ...    ...\n",
       "300006     399996      3\n",
       "300007     399997      7\n",
       "300008     399998      7\n",
       "300009     399999      5\n",
       "300010     400000     10\n",
       "\n",
       "[300011 rows x 2 columns]"
      ],
      "text/html": [
       "<div>\n",
       "<style scoped>\n",
       "    .dataframe tbody tr th:only-of-type {\n",
       "        vertical-align: middle;\n",
       "    }\n",
       "\n",
       "    .dataframe tbody tr th {\n",
       "        vertical-align: top;\n",
       "    }\n",
       "\n",
       "    .dataframe thead th {\n",
       "        text-align: right;\n",
       "    }\n",
       "</style>\n",
       "<table border=\"1\" class=\"dataframe\">\n",
       "  <thead>\n",
       "    <tr style=\"text-align: right;\">\n",
       "      <th></th>\n",
       "      <th>timestamp</th>\n",
       "      <th>count</th>\n",
       "    </tr>\n",
       "  </thead>\n",
       "  <tbody>\n",
       "    <tr>\n",
       "      <th>0</th>\n",
       "      <td>34236</td>\n",
       "      <td>1</td>\n",
       "    </tr>\n",
       "    <tr>\n",
       "      <th>1</th>\n",
       "      <td>34260</td>\n",
       "      <td>1</td>\n",
       "    </tr>\n",
       "    <tr>\n",
       "      <th>2</th>\n",
       "      <td>34496</td>\n",
       "      <td>1</td>\n",
       "    </tr>\n",
       "    <tr>\n",
       "      <th>3</th>\n",
       "      <td>34732</td>\n",
       "      <td>1</td>\n",
       "    </tr>\n",
       "    <tr>\n",
       "      <th>4</th>\n",
       "      <td>34937</td>\n",
       "      <td>1</td>\n",
       "    </tr>\n",
       "    <tr>\n",
       "      <th>...</th>\n",
       "      <td>...</td>\n",
       "      <td>...</td>\n",
       "    </tr>\n",
       "    <tr>\n",
       "      <th>300006</th>\n",
       "      <td>399996</td>\n",
       "      <td>3</td>\n",
       "    </tr>\n",
       "    <tr>\n",
       "      <th>300007</th>\n",
       "      <td>399997</td>\n",
       "      <td>7</td>\n",
       "    </tr>\n",
       "    <tr>\n",
       "      <th>300008</th>\n",
       "      <td>399998</td>\n",
       "      <td>7</td>\n",
       "    </tr>\n",
       "    <tr>\n",
       "      <th>300009</th>\n",
       "      <td>399999</td>\n",
       "      <td>5</td>\n",
       "    </tr>\n",
       "    <tr>\n",
       "      <th>300010</th>\n",
       "      <td>400000</td>\n",
       "      <td>10</td>\n",
       "    </tr>\n",
       "  </tbody>\n",
       "</table>\n",
       "<p>300011 rows × 2 columns</p>\n",
       "</div>"
      ]
     },
     "execution_count": 6,
     "metadata": {},
     "output_type": "execute_result"
    }
   ],
   "execution_count": 6
  },
  {
   "metadata": {
    "ExecuteTime": {
     "end_time": "2025-01-30T08:25:10.777831Z",
     "start_time": "2025-01-30T08:25:10.480022Z"
    }
   },
   "cell_type": "code",
   "source": [
    "plt.scatter(timestamp_counts['timestamp'], timestamp_counts['count'])\n",
    "plt.show()"
   ],
   "id": "124a290138dc5eb",
   "outputs": [
    {
     "data": {
      "text/plain": [
       "<Figure size 640x480 with 1 Axes>"
      ],
      "image/png": "[encoded data removed]"
     },
     "metadata": {},
     "output_type": "display_data"
    }
   ],
   "execution_count": 16
  }
 ],
 "metadata": {
  "kernelspec": {
   "display_name": "Python 3",
   "language": "python",
   "name": "python3"
  },
  "language_info": {
   "codemirror_mode": {
    "name": "ipython",
    "version": 2
   },
   "file_extension": ".py",
   "mimetype": "text/x-python",
   "name": "python",
   "nbconvert_exporter": "python",
   "pygments_lexer": "ipython2",
   "version": "2.7.6"
  }
 },
 "nbformat": 4,
 "nbformat_minor": 5
}
